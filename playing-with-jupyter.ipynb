{
 "cells": [
  {
   "cell_type": "code",
   "execution_count": 1,
   "id": "6bb2e33f-9f75-43a6-837c-841b2cfda56f",
   "metadata": {},
   "outputs": [],
   "source": [
    "i = 1\n",
    "j = 2\n",
    "k = i + j"
   ]
  },
  {
   "cell_type": "code",
   "execution_count": 2,
   "id": "58a03d3d-5064-4a96-8706-f19516eef97f",
   "metadata": {},
   "outputs": [
    {
     "data": {
      "text/plain": [
       "3"
      ]
     },
     "execution_count": 2,
     "metadata": {},
     "output_type": "execute_result"
    }
   ],
   "source": [
    "k"
   ]
  },
  {
   "cell_type": "markdown",
   "id": "92772586-c342-4a16-9b50-88d3d62790a0",
   "metadata": {},
   "source": [
    "# This is a Markdown Heading\n",
    "\n",
    "**This is Bold test**\n",
    "\n",
    "- list 1\n",
    "- list 2\n",
    "- list 3\n",
    "\n",
    "![](https://s3.eu-west-1.amazonaws.com/assets.galwaybusinessschool.ie/live/media/filer_public_thumbnails/filer_public/b3/19/b319707d-5628-42ee-9705-cef6cda7ea1e/springboard_logo.jpg__1580x0_q50_crop-scale_subsampling-2.jpg)\n"
   ]
  },
  {
   "cell_type": "code",
   "execution_count": null,
   "id": "6dddf7b1-520a-43c4-bd33-ce3c76a5c0ce",
   "metadata": {},
   "outputs": [],
   "source": []
  }
 ],
 "metadata": {
  "kernelspec": {
   "display_name": "Python 3",
   "language": "python",
   "name": "python3"
  },
  "language_info": {
   "codemirror_mode": {
    "name": "ipython",
    "version": 3
   },
   "file_extension": ".py",
   "mimetype": "text/x-python",
   "name": "python",
   "nbconvert_exporter": "python",
   "pygments_lexer": "ipython3",
   "version": "3.8.8"
  }
 },
 "nbformat": 4,
 "nbformat_minor": 5
}
